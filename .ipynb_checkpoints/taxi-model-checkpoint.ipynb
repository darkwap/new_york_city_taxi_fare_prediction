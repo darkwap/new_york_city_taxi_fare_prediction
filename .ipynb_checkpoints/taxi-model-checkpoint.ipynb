{
 "cells": [
  {
   "cell_type": "markdown",
   "metadata": {},
   "source": [
    "## Taxi model"
   ]
  },
  {
   "cell_type": "markdown",
   "metadata": {},
   "source": [
    "### Load data"
   ]
  },
  {
   "cell_type": "code",
   "execution_count": 3,
   "metadata": {},
   "outputs": [],
   "source": [
    "#we use our reduced data \n",
    "#reduced data is in train_reduced.csv this file is created by data_exploration.ipynb from original google data\n",
    "#sorry original data isnt included to my git profile because of its size\n",
    "#please download it if you need from https://www.kaggle.com/c/new-york-city-taxi-fare-prediction/data\n",
    "#load reduced data\n",
    "import numpy as np\n",
    "import pandas as pd\n",
    "data = pd.read_csv('data/train_reduced.csv')"
   ]
  },
  {
   "cell_type": "code",
   "execution_count": 4,
   "metadata": {},
   "outputs": [
    {
     "data": {
      "text/html": [
       "<div>\n",
       "<style scoped>\n",
       "    .dataframe tbody tr th:only-of-type {\n",
       "        vertical-align: middle;\n",
       "    }\n",
       "\n",
       "    .dataframe tbody tr th {\n",
       "        vertical-align: top;\n",
       "    }\n",
       "\n",
       "    .dataframe thead th {\n",
       "        text-align: right;\n",
       "    }\n",
       "</style>\n",
       "<table border=\"1\" class=\"dataframe\">\n",
       "  <thead>\n",
       "    <tr style=\"text-align: right;\">\n",
       "      <th></th>\n",
       "      <th>fare_amount</th>\n",
       "      <th>pickup_longitude</th>\n",
       "      <th>pickup_latitude</th>\n",
       "      <th>dropoff_longitude</th>\n",
       "      <th>dropoff_latitude</th>\n",
       "      <th>passenger_count</th>\n",
       "      <th>distance</th>\n",
       "      <th>pickup_hour</th>\n",
       "      <th>pickup_day</th>\n",
       "      <th>pickup_month</th>\n",
       "      <th>pickup_year</th>\n",
       "      <th>delta_longitude</th>\n",
       "      <th>delta_latitude</th>\n",
       "      <th>distance_round</th>\n",
       "    </tr>\n",
       "  </thead>\n",
       "  <tbody>\n",
       "    <tr>\n",
       "      <th>count</th>\n",
       "      <td>481946.000000</td>\n",
       "      <td>481946.000000</td>\n",
       "      <td>481946.000000</td>\n",
       "      <td>481946.000000</td>\n",
       "      <td>481946.000000</td>\n",
       "      <td>481946.000000</td>\n",
       "      <td>481946.000000</td>\n",
       "      <td>481946.000000</td>\n",
       "      <td>481946.000000</td>\n",
       "      <td>481946.00000</td>\n",
       "      <td>481946.000000</td>\n",
       "      <td>481946.000000</td>\n",
       "      <td>481946.000000</td>\n",
       "      <td>481946.000000</td>\n",
       "    </tr>\n",
       "    <tr>\n",
       "      <th>mean</th>\n",
       "      <td>11.304652</td>\n",
       "      <td>-73.975643</td>\n",
       "      <td>40.750855</td>\n",
       "      <td>-73.974648</td>\n",
       "      <td>40.751230</td>\n",
       "      <td>1.690225</td>\n",
       "      <td>3.343113</td>\n",
       "      <td>13.513263</td>\n",
       "      <td>15.677128</td>\n",
       "      <td>6.27225</td>\n",
       "      <td>2011.743509</td>\n",
       "      <td>-0.000995</td>\n",
       "      <td>-0.000375</td>\n",
       "      <td>3.343114</td>\n",
       "    </tr>\n",
       "    <tr>\n",
       "      <th>std</th>\n",
       "      <td>9.483915</td>\n",
       "      <td>0.034142</td>\n",
       "      <td>0.026664</td>\n",
       "      <td>0.033814</td>\n",
       "      <td>0.030554</td>\n",
       "      <td>1.306124</td>\n",
       "      <td>3.545694</td>\n",
       "      <td>6.508815</td>\n",
       "      <td>8.681614</td>\n",
       "      <td>3.43971</td>\n",
       "      <td>1.867383</td>\n",
       "      <td>0.040683</td>\n",
       "      <td>0.031137</td>\n",
       "      <td>3.545838</td>\n",
       "    </tr>\n",
       "    <tr>\n",
       "      <th>min</th>\n",
       "      <td>0.000000</td>\n",
       "      <td>-74.295537</td>\n",
       "      <td>40.511087</td>\n",
       "      <td>-74.294613</td>\n",
       "      <td>40.505648</td>\n",
       "      <td>1.000000</td>\n",
       "      <td>0.000072</td>\n",
       "      <td>0.000000</td>\n",
       "      <td>1.000000</td>\n",
       "      <td>1.00000</td>\n",
       "      <td>2009.000000</td>\n",
       "      <td>-0.515475</td>\n",
       "      <td>-0.256640</td>\n",
       "      <td>0.000000</td>\n",
       "    </tr>\n",
       "    <tr>\n",
       "      <th>25%</th>\n",
       "      <td>6.000000</td>\n",
       "      <td>-73.992277</td>\n",
       "      <td>40.736583</td>\n",
       "      <td>-73.991574</td>\n",
       "      <td>40.735632</td>\n",
       "      <td>1.000000</td>\n",
       "      <td>1.280182</td>\n",
       "      <td>9.000000</td>\n",
       "      <td>8.000000</td>\n",
       "      <td>3.00000</td>\n",
       "      <td>2010.000000</td>\n",
       "      <td>-0.014100</td>\n",
       "      <td>-0.014537</td>\n",
       "      <td>1.300000</td>\n",
       "    </tr>\n",
       "    <tr>\n",
       "      <th>50%</th>\n",
       "      <td>8.500000</td>\n",
       "      <td>-73.982110</td>\n",
       "      <td>40.753390</td>\n",
       "      <td>-73.980629</td>\n",
       "      <td>40.753886</td>\n",
       "      <td>1.000000</td>\n",
       "      <td>2.177169</td>\n",
       "      <td>14.000000</td>\n",
       "      <td>16.000000</td>\n",
       "      <td>6.00000</td>\n",
       "      <td>2012.000000</td>\n",
       "      <td>-0.001155</td>\n",
       "      <td>-0.000148</td>\n",
       "      <td>2.200000</td>\n",
       "    </tr>\n",
       "    <tr>\n",
       "      <th>75%</th>\n",
       "      <td>12.500000</td>\n",
       "      <td>-73.968515</td>\n",
       "      <td>40.767467</td>\n",
       "      <td>-73.965495</td>\n",
       "      <td>40.768401</td>\n",
       "      <td>2.000000</td>\n",
       "      <td>3.950948</td>\n",
       "      <td>19.000000</td>\n",
       "      <td>23.000000</td>\n",
       "      <td>9.00000</td>\n",
       "      <td>2013.000000</td>\n",
       "      <td>0.011707</td>\n",
       "      <td>0.014197</td>\n",
       "      <td>4.000000</td>\n",
       "    </tr>\n",
       "    <tr>\n",
       "      <th>max</th>\n",
       "      <td>450.000000</td>\n",
       "      <td>-73.702142</td>\n",
       "      <td>40.899955</td>\n",
       "      <td>-73.700155</td>\n",
       "      <td>40.900000</td>\n",
       "      <td>6.000000</td>\n",
       "      <td>45.643764</td>\n",
       "      <td>23.000000</td>\n",
       "      <td>31.000000</td>\n",
       "      <td>12.00000</td>\n",
       "      <td>2015.000000</td>\n",
       "      <td>0.451703</td>\n",
       "      <td>0.233452</td>\n",
       "      <td>45.600000</td>\n",
       "    </tr>\n",
       "  </tbody>\n",
       "</table>\n",
       "</div>"
      ],
      "text/plain": [
       "         fare_amount  pickup_longitude  pickup_latitude  dropoff_longitude  \\\n",
       "count  481946.000000     481946.000000    481946.000000      481946.000000   \n",
       "mean       11.304652        -73.975643        40.750855         -73.974648   \n",
       "std         9.483915          0.034142         0.026664           0.033814   \n",
       "min         0.000000        -74.295537        40.511087         -74.294613   \n",
       "25%         6.000000        -73.992277        40.736583         -73.991574   \n",
       "50%         8.500000        -73.982110        40.753390         -73.980629   \n",
       "75%        12.500000        -73.968515        40.767467         -73.965495   \n",
       "max       450.000000        -73.702142        40.899955         -73.700155   \n",
       "\n",
       "       dropoff_latitude  passenger_count       distance    pickup_hour  \\\n",
       "count     481946.000000    481946.000000  481946.000000  481946.000000   \n",
       "mean          40.751230         1.690225       3.343113      13.513263   \n",
       "std            0.030554         1.306124       3.545694       6.508815   \n",
       "min           40.505648         1.000000       0.000072       0.000000   \n",
       "25%           40.735632         1.000000       1.280182       9.000000   \n",
       "50%           40.753886         1.000000       2.177169      14.000000   \n",
       "75%           40.768401         2.000000       3.950948      19.000000   \n",
       "max           40.900000         6.000000      45.643764      23.000000   \n",
       "\n",
       "          pickup_day  pickup_month    pickup_year  delta_longitude  \\\n",
       "count  481946.000000  481946.00000  481946.000000    481946.000000   \n",
       "mean       15.677128       6.27225    2011.743509        -0.000995   \n",
       "std         8.681614       3.43971       1.867383         0.040683   \n",
       "min         1.000000       1.00000    2009.000000        -0.515475   \n",
       "25%         8.000000       3.00000    2010.000000        -0.014100   \n",
       "50%        16.000000       6.00000    2012.000000        -0.001155   \n",
       "75%        23.000000       9.00000    2013.000000         0.011707   \n",
       "max        31.000000      12.00000    2015.000000         0.451703   \n",
       "\n",
       "       delta_latitude  distance_round  \n",
       "count   481946.000000   481946.000000  \n",
       "mean        -0.000375        3.343114  \n",
       "std          0.031137        3.545838  \n",
       "min         -0.256640        0.000000  \n",
       "25%         -0.014537        1.300000  \n",
       "50%         -0.000148        2.200000  \n",
       "75%          0.014197        4.000000  \n",
       "max          0.233452       45.600000  "
      ]
     },
     "execution_count": 4,
     "metadata": {},
     "output_type": "execute_result"
    }
   ],
   "source": [
    "data.describe()"
   ]
  },
  {
   "cell_type": "markdown",
   "metadata": {},
   "source": [
    "### Split dataset to train,test"
   ]
  },
  {
   "cell_type": "code",
   "execution_count": 5,
   "metadata": {},
   "outputs": [],
   "source": [
    "fare_amount = data['fare_amount']"
   ]
  },
  {
   "cell_type": "code",
   "execution_count": 16,
   "metadata": {},
   "outputs": [],
   "source": [
    "#split data set into train, test\n",
    "#because of calculation performance limit total amount of data.\n",
    "from sklearn.model_selection import train_test_split\n",
    "X_train, X_test, y_train, y_test = train_test_split( data[['pickup_hour','pickup_year','pickup_latitude',\n",
    "                                                           'pickup_longitude', 'dropoff_latitude', 'dropoff_longitude']], fare_amount, train_size=20000, test_size=2000, random_state=42)"
   ]
  },
  {
   "cell_type": "markdown",
   "metadata": {},
   "source": [
    "### SVM - SVR from sklearn"
   ]
  },
  {
   "cell_type": "code",
   "execution_count": 17,
   "metadata": {},
   "outputs": [
    {
     "name": "stdout",
     "output_type": "stream",
     "text": [
      "[LibSVM]"
     ]
    },
    {
     "data": {
      "text/plain": [
       "SVR(C=50, cache_size=200, coef0=0.0, degree=3, epsilon=0.2, gamma=57,\n",
       "  kernel='rbf', max_iter=-1, shrinking=True, tol=0.001, verbose=True)"
      ]
     },
     "execution_count": 17,
     "metadata": {},
     "output_type": "execute_result"
    }
   ],
   "source": [
    "#svr\n",
    "from sklearn.svm import SVR\n",
    "single_svr = SVR(kernel='rbf', gamma=57, C=50, epsilon=0.2, verbose=True)\n",
    "single_svr.fit(X_train, y_train)"
   ]
  },
  {
   "cell_type": "code",
   "execution_count": 18,
   "metadata": {},
   "outputs": [],
   "source": [
    "y_pred = single_svr.predict(X_test)"
   ]
  },
  {
   "cell_type": "code",
   "execution_count": 19,
   "metadata": {},
   "outputs": [
    {
     "name": "stdout",
     "output_type": "stream",
     "text": [
      "4.543806777722515\n"
     ]
    }
   ],
   "source": [
    "from sklearn.metrics import mean_squared_error\n",
    "rmse = np.sqrt(mean_squared_error(y_test, y_pred))\n",
    "print(rmse)"
   ]
  }
 ],
 "metadata": {
  "kernelspec": {
   "display_name": "Python 36 gpu",
   "language": "python",
   "name": "tf_gpu_36"
  },
  "language_info": {
   "codemirror_mode": {
    "name": "ipython",
    "version": 3
   },
   "file_extension": ".py",
   "mimetype": "text/x-python",
   "name": "python",
   "nbconvert_exporter": "python",
   "pygments_lexer": "ipython3",
   "version": "3.6.8"
  }
 },
 "nbformat": 4,
 "nbformat_minor": 2
}
